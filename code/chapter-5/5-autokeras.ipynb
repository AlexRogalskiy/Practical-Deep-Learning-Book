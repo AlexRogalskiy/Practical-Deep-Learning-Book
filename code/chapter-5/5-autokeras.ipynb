{
  "nbformat": 4,
  "nbformat_minor": 0,
  "metadata": {
    "colab": {
      "name": "autokeras-error.ipynb",
      "provenance": []
    },
    "kernelspec": {
      "display_name": "Python 3",
      "language": "python",
      "name": "python3"
    },
    "language_info": {
      "codemirror_mode": {
        "name": "ipython",
        "version": 3
      },
      "file_extension": ".py",
      "mimetype": "text/x-python",
      "name": "python",
      "nbconvert_exporter": "python",
      "pygments_lexer": "ipython3",
      "version": "3.6.9"
    },
    "toc": {
      "base_numbering": 1,
      "nav_menu": {},
      "number_sections": true,
      "sideBar": true,
      "skip_h1_title": false,
      "title_cell": "Table of Contents",
      "title_sidebar": "Contents",
      "toc_cell": false,
      "toc_position": {},
      "toc_section_display": true,
      "toc_window_display": false
    }
  },
  "cells": [
    {
      "cell_type": "markdown",
      "metadata": {
        "id": "YWy8awiU_lpQ"
      },
      "source": [
        "<table class=\"tfo-notebook-buttons\" align=\"center\">\n",
        "  <td>\n",
        "    <a target=\"_blank\" href=\"https://colab.research.google.com/github/PracticalDL/Practical-Deep-Learning-Book/blob/master/code/chapter-5/5-autokeras.ipynb\"><img src=\"https://www.tensorflow.org/images/colab_logo_32px.png\" />Run in Google Colab</a>\n",
        "  </td>\n",
        "  <td>\n",
        "    <a target=\"_blank\" href=\"https://github.com/PracticalDL/Practical-Deep-Learning-Book/blob/master/code/chapter-5/5-autokeras.ipynb\"><img src=\"https://www.tensorflow.org/images/GitHub-Mark-32px.png\" />View source on GitHub</a>\n",
        "  </td>\n",
        "</table>"
      ]
    },
    {
      "cell_type": "markdown",
      "metadata": {
        "id": "nEITLiblo1Pj"
      },
      "source": [
        "# [AutoKeras](https://autokeras.com/)\n",
        "\n",
        "** Note: This code has been tested as of July 2021**\n",
        "\n",
        "As AI is automating more and more jobs, it can finally automate designing AI architectures too. Neural Architecture Search (NAS) approaches utilize reinforcement learning to join together mini architectural blocks, till they are able to maximize the objective function - i.e. our validation accuracy. The current state of the art networks are all based on NAS, leaving human-designed architectures in the dust. Research in this area started showing promising results in 2017, with a bigger focus on making train faster in 2018.\n",
        "\n",
        "AutoKeras (Haifeng Jin et al), also apply this state of the art technique on our particular datasets in a relatively accessible manner. Generating new model architectures with AutoKeras is a matter of supplying our images and associated labels, and a time limit to finish running the jobs by. Internally, it implements several optimization algorithms including a Bayesian optimization approach to search for an optimal architecture."
      ]
    },
    {
      "cell_type": "code",
      "metadata": {
        "id": "v52pLCjNCSdW"
      },
      "source": [
        "!pip install tensorflow-gpu==2.5.0\n",
        "!pip3 install autokeras\n",
        "!pip install keras-tuner --upgrade"
      ],
      "execution_count": null,
      "outputs": []
    },
    {
      "cell_type": "code",
      "metadata": {
        "id": "hB3z3gz3mlBu"
      },
      "source": [
        "import numpy as np\n",
        "import tensorflow as tf\n",
        "from tensorflow.keras.datasets import mnist\n",
        "from tensorflow.python.keras.utils.data_utils import Sequence\n",
        "import autokeras as ak"
      ],
      "execution_count": 2,
      "outputs": []
    },
    {
      "cell_type": "markdown",
      "metadata": {
        "id": "b-ICAVRq_lpV"
      },
      "source": [
        "Load the standard MNIST data"
      ]
    },
    {
      "cell_type": "code",
      "metadata": {
        "id": "SQZBAKSo_lpW"
      },
      "source": [
        "(x_train, y_train), (x_test, y_test) = mnist.load_data()"
      ],
      "execution_count": 3,
      "outputs": []
    },
    {
      "cell_type": "markdown",
      "metadata": {
        "id": "Sfhssmdd_lpW"
      },
      "source": [
        "Define an image classifier. The `max_trials` setting can be played around with to enable more experimentation. It refers to the maximum number of different Keras Models to try. The search may finish before reaching the max_trials. Defaults to 100."
      ]
    },
    {
      "cell_type": "code",
      "metadata": {
        "id": "b6l-w8p9qDrZ"
      },
      "source": [
        "clf = ak.ImageClassifier(\n",
        "    overwrite=True,\n",
        "    max_trials=10)"
      ],
      "execution_count": 6,
      "outputs": []
    },
    {
      "cell_type": "markdown",
      "metadata": {
        "id": "HTR9JC-iuKRC"
      },
      "source": [
        "Fit the classifier."
      ]
    },
    {
      "cell_type": "code",
      "metadata": {
        "colab": {
          "base_uri": "https://localhost:8080/"
        },
        "id": "90yzXCs8qF2s",
        "scrolled": false,
        "outputId": "b9bf1c1d-b3c4-42fe-a0ed-037d2c5194ad"
      },
      "source": [
        "clf.fit(x_train, y_train, epochs=10)"
      ],
      "execution_count": 7,
      "outputs": [
        {
          "output_type": "stream",
          "text": [
            "Trial 1 Complete [00h 01m 57s]\n",
            "val_loss: 0.06357701867818832\n",
            "\n",
            "Best val_loss So Far: 0.06357701867818832\n",
            "Total elapsed time: 00h 01m 57s\n",
            "INFO:tensorflow:Oracle triggered exit\n",
            "1875/1875 [==============================] - 138s 73ms/step - loss: 0.1578 - accuracy: 0.9520\n",
            "INFO:tensorflow:Assets written to: ./image_classifier/best_model/assets\n"
          ],
          "name": "stdout"
        }
      ]
    },
    {
      "cell_type": "markdown",
      "metadata": {
        "id": "V4xZECnl_lpY"
      },
      "source": [
        "Prediction based on the best model trained"
      ]
    },
    {
      "cell_type": "code",
      "metadata": {
        "id": "YpLFr0T__lpY",
        "outputId": "293970e6-ac6c-48de-b21d-36d628cd84c4",
        "colab": {
          "base_uri": "https://localhost:8080/"
        }
      },
      "source": [
        "predicted_y = clf.predict(x_test)\n",
        "\n",
        "from sklearn.metrics import accuracy_score\n",
        "print(accuracy_score(y_true=y_test, y_pred=predicted_y))"
      ],
      "execution_count": 8,
      "outputs": [
        {
          "output_type": "stream",
          "text": [
            "313/313 [==============================] - 5s 16ms/step\n",
            "0.0\n"
          ],
          "name": "stdout"
        },
        {
          "output_type": "stream",
          "text": [
            "/usr/local/lib/python3.7/dist-packages/sklearn/metrics/_classification.py:191: FutureWarning: elementwise comparison failed; returning scalar instead, but in the future will perform elementwise comparison\n",
            "  score = y_true == y_pred\n"
          ],
          "name": "stderr"
        }
      ]
    },
    {
      "cell_type": "markdown",
      "metadata": {
        "id": "ZswyaTvy_lpZ"
      },
      "source": [
        "Evaluate the best model with testing data"
      ]
    },
    {
      "cell_type": "code",
      "metadata": {
        "colab": {
          "base_uri": "https://localhost:8080/"
        },
        "id": "1yqjEzkXmk-B",
        "outputId": "6ab6855f-0fd4-476d-dcce-16ab026a7504"
      },
      "source": [
        "print(clf.evaluate(x_test, y_test))"
      ],
      "execution_count": 9,
      "outputs": [
        {
          "output_type": "stream",
          "text": [
            "313/313 [==============================] - 5s 17ms/step - loss: 0.0589 - accuracy: 0.9799\n",
            "[0.058876268565654755, 0.9799000024795532]\n"
          ],
          "name": "stdout"
        }
      ]
    },
    {
      "cell_type": "markdown",
      "metadata": {
        "id": "UrWwDwaE_lpZ"
      },
      "source": [
        "Export as a Keras Model"
      ]
    },
    {
      "cell_type": "code",
      "metadata": {
        "id": "uVuRPS5Kmk7s"
      },
      "source": [
        "model = clf.export_model()"
      ],
      "execution_count": 10,
      "outputs": []
    },
    {
      "cell_type": "markdown",
      "metadata": {
        "id": "pQo-0nMK_lpa"
      },
      "source": [
        "Let's visualize the trained model."
      ]
    },
    {
      "cell_type": "code",
      "metadata": {
        "colab": {
          "base_uri": "https://localhost:8080/"
        },
        "id": "38Gt7L5TqbqK",
        "outputId": "6eca6054-a9da-4c4d-bb19-2f125e1c254b"
      },
      "source": [
        "model.summary()"
      ],
      "execution_count": 11,
      "outputs": [
        {
          "output_type": "stream",
          "text": [
            "Model: \"model\"\n",
            "_________________________________________________________________\n",
            "Layer (type)                 Output Shape              Param #   \n",
            "=================================================================\n",
            "input_1 (InputLayer)         [(None, 28, 28)]          0         \n",
            "_________________________________________________________________\n",
            "cast_to_float32 (CastToFloat (None, 28, 28)            0         \n",
            "_________________________________________________________________\n",
            "expand_last_dim (ExpandLastD (None, 28, 28, 1)         0         \n",
            "_________________________________________________________________\n",
            "normalization (Normalization (None, 28, 28, 1)         3         \n",
            "_________________________________________________________________\n",
            "conv2d (Conv2D)              (None, 26, 26, 32)        320       \n",
            "_________________________________________________________________\n",
            "conv2d_1 (Conv2D)            (None, 24, 24, 64)        18496     \n",
            "_________________________________________________________________\n",
            "max_pooling2d (MaxPooling2D) (None, 12, 12, 64)        0         \n",
            "_________________________________________________________________\n",
            "dropout (Dropout)            (None, 12, 12, 64)        0         \n",
            "_________________________________________________________________\n",
            "flatten (Flatten)            (None, 9216)              0         \n",
            "_________________________________________________________________\n",
            "dropout_1 (Dropout)          (None, 9216)              0         \n",
            "_________________________________________________________________\n",
            "dense (Dense)                (None, 10)                92170     \n",
            "_________________________________________________________________\n",
            "classification_head_1 (Softm (None, 10)                0         \n",
            "=================================================================\n",
            "Total params: 110,989\n",
            "Trainable params: 110,986\n",
            "Non-trainable params: 3\n",
            "_________________________________________________________________\n"
          ],
          "name": "stdout"
        }
      ]
    },
    {
      "cell_type": "code",
      "metadata": {
        "colab": {
          "base_uri": "https://localhost:8080/"
        },
        "id": "r-uUVusTmk4v",
        "outputId": "17144ea5-d296-41c9-8eba-c3f182dd8d23"
      },
      "source": [
        "print(type(model))"
      ],
      "execution_count": 12,
      "outputs": [
        {
          "output_type": "stream",
          "text": [
            "<class 'tensorflow.python.keras.engine.functional.Functional'>\n"
          ],
          "name": "stdout"
        }
      ]
    },
    {
      "cell_type": "markdown",
      "metadata": {
        "id": "9nljNvWo_lpc"
      },
      "source": [
        "Now, let's write the model to disk"
      ]
    },
    {
      "cell_type": "code",
      "metadata": {
        "colab": {
          "base_uri": "https://localhost:8080/"
        },
        "id": "GQKXqYGqmk2M",
        "outputId": "beef1f99-5bcc-42f8-c4aa-f195696884e5"
      },
      "source": [
        "try:\n",
        "    model.save(\"model_autokeras\", save_format=\"tf\")\n",
        "except:\n",
        "    model.save(\"model_autokeras.h5\")"
      ],
      "execution_count": 13,
      "outputs": [
        {
          "output_type": "stream",
          "text": [
            "INFO:tensorflow:Assets written to: model_autokeras/assets\n"
          ],
          "name": "stdout"
        }
      ]
    },
    {
      "cell_type": "markdown",
      "metadata": {
        "id": "lL-YtJ9b_lpd"
      },
      "source": [
        "Let's read the model we just wrote."
      ]
    },
    {
      "cell_type": "code",
      "metadata": {
        "id": "z7hmwTsEmkqq"
      },
      "source": [
        "from tensorflow.keras.models import load_model\n",
        "\n",
        "loaded_model = load_model(\"model_autokeras\", custom_objects=ak.CUSTOM_OBJECTS)\n",
        "\n",
        "predicted_y = loaded_model.predict(tf.expand_dims(x_test, -1))"
      ],
      "execution_count": 14,
      "outputs": []
    }
  ]
}